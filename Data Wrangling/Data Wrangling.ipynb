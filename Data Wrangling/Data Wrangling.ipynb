{
 "cells": [
  {
   "cell_type": "markdown",
   "metadata": {},
   "source": [
    "## Dataset Overview\n",
    "The dataset contains information about various products, including their names, quantities, unit prices, manufacturers, expiration dates, categories, weights, colors, materials, and production dates.\n",
    "\n",
    "### Task Instructions\n",
    "```Load the Data```:\n",
    "Load the provided CSV file into a Pandas DataFrame.\n",
    "\n",
    "```Basic Data Exploration```:\n",
    "Display the first few rows of the DataFrame.\n",
    "Print the summary statistics of the numeric columns.\n",
    "\n",
    "```Data Cleaning```:\n",
    "There are multiple rows with missing values, handle them with various methods (don't repeat the same method used for column A in column B).\n",
    "\n",
    "```Data Transformation```:\n",
    "Create a new column total_value which is the product of quantity and unit_price.\n",
    "Convert production_date and expiration_date to datetime format.\n",
    "Extract the year from production_date and create a new column production_year.\n",
    "\n",
    "```Data Analysis```:\n",
    "Group the data by category and calculate the total quantity and total value for each category.\n",
    "Find the top 5 most expensive products based on unit_price.\n",
    "Calculate the average weight of products for each manufacturer.\n",
    "\n",
    "```Save the Cleaned Data```:\n",
    "Save the cleaned and transformed DataFrame to a new CSV file named cleaned_factory_data.csv."
   ]
  },
  {
   "cell_type": "code",
   "execution_count": 4,
   "metadata": {},
   "outputs": [],
   "source": [
    "# Loading the dataset.\n",
    "df = pd.read_csv('Factory Data.csv')"
   ]
  },
  {
   "cell_type": "code",
   "execution_count": 15,
   "metadata": {},
   "outputs": [
    {
     "name": "stdout",
     "output_type": "stream",
     "text": [
      "\t\t\tDisplay of first 6 rows\n",
      "\n",
      "                         product_name  quantity  unit_price manufacturer  \\\n",
      "0  Soup - Campbells - Chicken Noodle       265        6.20         Katz   \n",
      "1             Wine - Sauvignon Blanc       429       22.53      Meembee   \n",
      "2  Pasta - Cheese / Spinach Bauletti       483       79.70    Skynoodle   \n",
      "3   Wine - Cave Springs Dry Riesling       884       20.51     Centidel   \n",
      "4          Table Cloth 62x120 Colour       476       62.39     Realcube   \n",
      "5                        Rolled Oats       852       86.68       Skibox   \n",
      "\n",
      "  expiration_date     category  weight  color material production_date  \n",
      "0             NaN  electronics     NaN   Mauv     wood      12/15/2023  \n",
      "1             NaN         food     NaN    Red  plastic       8/31/2022  \n",
      "2             NaN         food     0.5   Puce    metal      10/27/2023  \n",
      "3             NaN  electronics     3.9  Green  plastic        1/7/2023  \n",
      "4      12/26/2022  electronics     2.6   Pink    metal       3/20/2022  \n",
      "5       4/30/2023         food     NaN  Green    metal        2/4/2023   \n",
      "\n",
      "\n",
      " Summary Statistics of Numerical Columns\n",
      "\n",
      "           quantity   unit_price      weight\n",
      "count  1000.000000  1000.000000  781.000000\n",
      "mean    516.651000    50.182260    5.020102\n",
      "std     292.392316    29.327183    2.826848\n",
      "min       2.000000     0.120000    0.100000\n",
      "25%     272.000000    24.607500    2.600000\n",
      "50%     521.500000    51.815000    5.000000\n",
      "75%     769.000000    76.320000    7.400000\n",
      "max     999.000000    99.910000   10.000000\n"
     ]
    }
   ],
   "source": [
    "# Basic Data Exploration\n",
    "print('\\t\\t\\tDisplay of first 6 rows\\n\\n', df.head(6), '\\n\\n\\n',\\\n",
    "    'Summary Statistics of Numerical Columns\\n\\n', df.describe())"
   ]
  },
  {
   "cell_type": "code",
   "execution_count": 18,
   "metadata": {},
   "outputs": [
    {
     "data": {
      "text/plain": [
       "product_name         0\n",
       "quantity             0\n",
       "unit_price           0\n",
       "manufacturer         0\n",
       "expiration_date    797\n",
       "category             0\n",
       "weight             219\n",
       "color                0\n",
       "material             0\n",
       "production_date      0\n",
       "dtype: int64"
      ]
     },
     "execution_count": 18,
     "metadata": {},
     "output_type": "execute_result"
    }
   ],
   "source": [
    "df.isna().sum()"
   ]
  },
  {
   "cell_type": "code",
   "execution_count": 51,
   "metadata": {},
   "outputs": [
    {
     "data": {
      "text/plain": [
       "0      electronics\n",
       "1             food\n",
       "5             food\n",
       "11        clothing\n",
       "18        clothing\n",
       "          ...     \n",
       "972    electronics\n",
       "973       clothing\n",
       "984       clothing\n",
       "987       clothing\n",
       "993    electronics\n",
       "Name: category, Length: 219, dtype: object"
      ]
     },
     "execution_count": 51,
     "metadata": {},
     "output_type": "execute_result"
    }
   ],
   "source": [
    "df.loc[df['weight'].isna(), 'category']\n",
    "\n",
    "# mask = pd.no(df['weight'])\n",
    "# df[mask]\n",
    "# # df[mask2]"
   ]
  },
  {
   "cell_type": "code",
   "execution_count": null,
   "metadata": {},
   "outputs": [],
   "source": []
  },
  {
   "cell_type": "code",
   "execution_count": null,
   "metadata": {},
   "outputs": [],
   "source": []
  },
  {
   "cell_type": "code",
   "execution_count": null,
   "metadata": {},
   "outputs": [],
   "source": []
  },
  {
   "cell_type": "code",
   "execution_count": null,
   "metadata": {},
   "outputs": [],
   "source": []
  }
 ],
 "metadata": {
  "kernelspec": {
   "display_name": "base",
   "language": "python",
   "name": "python3"
  },
  "language_info": {
   "codemirror_mode": {
    "name": "ipython",
    "version": 3
   },
   "file_extension": ".py",
   "mimetype": "text/x-python",
   "name": "python",
   "nbconvert_exporter": "python",
   "pygments_lexer": "ipython3",
   "version": "3.11.5"
  }
 },
 "nbformat": 4,
 "nbformat_minor": 2
}
