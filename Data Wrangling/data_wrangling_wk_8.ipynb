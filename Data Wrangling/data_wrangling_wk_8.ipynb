{
 "cells": [
  {
   "cell_type": "code",
   "execution_count": 4,
   "metadata": {},
   "outputs": [
    {
     "name": "stdout",
     "output_type": "stream",
     "text": [
      "| Date      | Time   | Shift   | invoice number    | Table   | Waiter Number   | Waiter name   | Item Code   | Item Name          | Qty   | Price/Unit   | Total   |\n",
      "|:----------|:-------|:--------|:------------------|:--------|:----------------|:--------------|:------------|:-------------------|:------|:-------------|:--------|\n",
      "| 9/28/2023 | 00:05  | Night   | FcB 0003-00000408 | 1       | 302             | PABLO         | 501         | Pizza Mozzarella   | 1     | 2500         | 2500    |\n",
      "| 9/28/2023 | 00:05  | Night   | FcB 0003-00000408 | 1       | 302             | PABLO         | 1002        | Pinta Artesanal HH | 4     | 800          | 3200    |\n",
      "| 9/28/2023 | 00:17  | Night   | FcB 0003-00000411 | 1       | 302             | PABLO         | 501         | Pizza Mozzarella   | 1     | 2500         | 2500    |\n",
      "| 9/28/2023 | 00:17  | Night   | FcB 0003-00000411 | 1       | 302             | PABLO         | 1002        | Pinta Artesanal HH | 2     | 800          | 1600    |\n",
      "| 9/28/2023 | 00:17  | Night   | FcB 0003-00000411 | 1       | 302             | PABLO         | 102         | Papas Magia        | 1     | 2500         | 2500    |\n",
      "<class 'pandas.core.frame.DataFrame'>\n",
      "RangeIndex: 195 entries, 0 to 194\n",
      "Data columns (total 12 columns):\n",
      " #   Column          Non-Null Count  Dtype  \n",
      "---  ------          --------------  -----  \n",
      " 0   Date            195 non-null    object \n",
      " 1   Time            195 non-null    object \n",
      " 2   Shift           195 non-null    object \n",
      " 3   invoice number  195 non-null    object \n",
      " 4   Table           195 non-null    object \n",
      " 5   Waiter Number   195 non-null    int64  \n",
      " 6   Waiter name     195 non-null    object \n",
      " 7   Item Code       195 non-null    int64  \n",
      " 8   Item Name       195 non-null    object \n",
      " 9   Qty             195 non-null    int64  \n",
      " 10  Price/Unit      195 non-null    float64\n",
      " 11  Total           195 non-null    float64\n",
      "dtypes: float64(2), int64(3), object(7)\n",
      "memory usage: 18.4+ KB\n",
      "None\n"
     ]
    }
   ],
   "source": [
    "import pandas as pd\n",
    "\n",
    "# Read the CSV file into a DataFrame\n",
    "url =  \"https://drive.google.com/file/d/1_RBqno4cu9kov98d2S13Ko9mPexp3gtM/view?usp=drive_link\" # insert URL here\n",
    "url = 'https://drive.google.com/uc?id=' + url.split('/')[-2]\n",
    "\n",
    "df = pd.read_csv(url)\n",
    "\n",
    "# Display the first 5 rows\n",
    "print(df.head().to_markdown(index=False, numalign=\"left\", stralign=\"left\"))\n",
    "\n",
    "# Print the column names and their data types\n",
    "print(df.info())"
   ]
  },
  {
   "cell_type": "markdown",
   "metadata": {},
   "source": [
    "## Tasks\n",
    "\n",
    "turn: 2\n",
    "\n",
    "User_query: What is their most expensive item?\n",
    "\n",
    "Capability: Follow On"
   ]
  },
  {
   "cell_type": "code",
   "execution_count": 9,
   "metadata": {},
   "outputs": [
    {
     "data": {
      "text/plain": [
       "Item Name\n",
       "Combo Fernet    8500.0\n",
       "Name: Price/Unit, dtype: float64"
      ]
     },
     "execution_count": 9,
     "metadata": {},
     "output_type": "execute_result"
    }
   ],
   "source": [
    "# What is their most expensive item?\n",
    "\n",
    "df.groupby('Item Name')['Price/Unit'].max().sort_values(ascending = False).head(1)\n",
    "\n",
    "# Combo Fernet is the most expensive item with 8500 price/unit.\n"
   ]
  },
  {
   "cell_type": "code",
   "execution_count": null,
   "metadata": {},
   "outputs": [],
   "source": []
  },
  {
   "cell_type": "code",
   "execution_count": null,
   "metadata": {},
   "outputs": [],
   "source": []
  }
 ],
 "metadata": {
  "kernelspec": {
   "display_name": "base",
   "language": "python",
   "name": "python3"
  },
  "language_info": {
   "codemirror_mode": {
    "name": "ipython",
    "version": 3
   },
   "file_extension": ".py",
   "mimetype": "text/x-python",
   "name": "python",
   "nbconvert_exporter": "python",
   "pygments_lexer": "ipython3",
   "version": "3.11.5"
  }
 },
 "nbformat": 4,
 "nbformat_minor": 2
}
