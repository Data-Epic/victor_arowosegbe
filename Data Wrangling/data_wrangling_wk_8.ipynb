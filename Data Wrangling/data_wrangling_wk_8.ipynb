{
 "cells": [
  {
   "cell_type": "code",
   "execution_count": 11,
   "metadata": {},
   "outputs": [
    {
     "name": "stdout",
     "output_type": "stream",
     "text": [
      "https://drive.google.com/uc?id=view?usp=drive_link\n"
     ]
    }
   ],
   "source": [
    "import pandas as pd\n",
    "\n",
    "# Read the CSV file into a DataFrame\n",
    "url =  \"https://drive.google.com/file/d/1_RBqno4cu9kov98d2S13Ko9mPexp3gtM/view?usp=drive_link\" # insert URL here\n",
    "url2 = 'https://drive.google.com/uc?id=' + url.split('/')[-2]\n",
    "\n",
    "print(url2)\n",
    "\n",
    "df = pd.read_csv(url)\n",
    "\n",
    "# Display the first 5 rows\n",
    "print(df.head().to_markdown(index=False, numalign=\"left\", stralign=\"left\"))\n",
    "\n",
    "# Print the column names and their data types\n",
    "print(df.info())\n",
    "\n"
   ]
  },
  {
   "cell_type": "markdown",
   "metadata": {},
   "source": [
    "## Tasks\n",
    "\n",
    "turn: 2\n",
    "\n",
    "User_query: What is their most expensive item?\n",
    "\n",
    "Capability: Follow On"
   ]
  },
  {
   "cell_type": "code",
   "execution_count": 5,
   "metadata": {},
   "outputs": [
    {
     "data": {
      "text/plain": [
       "Item Name\n",
       "Combo Fernet            8500.0\n",
       "Sandwich Gringo         3500.0\n",
       "Sandwichs Héroes        3500.0\n",
       "Sandwich Especial       3500.0\n",
       "Pizza Serrana           3500.0\n",
       "Pizza 4 Quesos          3325.0\n",
       "Pizza Especial          3100.0\n",
       "Pizza Napolitana        3000.0\n",
       "Pizza Serrana Veggie    2800.0\n",
       "Sandwich Bondiola       2600.0\n",
       "Name: Price/Unit, dtype: float64"
      ]
     },
     "execution_count": 5,
     "metadata": {},
     "output_type": "execute_result"
    }
   ],
   "source": [
    "# What is their most expensive item?\n",
    "\n",
    "df.groupby('Item Name')['Price/Unit'].max().sort_values(ascending = False).head(10)\n",
    "\n",
    "# Combo Fernet is the most expensive item with 8500 price/unit.\n"
   ]
  },
  {
   "cell_type": "code",
   "execution_count": 6,
   "metadata": {},
   "outputs": [
    {
     "data": {
      "text/html": [
       "<div>\n",
       "<style scoped>\n",
       "    .dataframe tbody tr th:only-of-type {\n",
       "        vertical-align: middle;\n",
       "    }\n",
       "\n",
       "    .dataframe tbody tr th {\n",
       "        vertical-align: top;\n",
       "    }\n",
       "\n",
       "    .dataframe thead th {\n",
       "        text-align: right;\n",
       "    }\n",
       "</style>\n",
       "<table border=\"1\" class=\"dataframe\">\n",
       "  <thead>\n",
       "    <tr style=\"text-align: right;\">\n",
       "      <th></th>\n",
       "      <th>Date</th>\n",
       "      <th>Time</th>\n",
       "      <th>invoice number</th>\n",
       "      <th>Table</th>\n",
       "      <th>Waiter Number</th>\n",
       "      <th>Waiter name</th>\n",
       "      <th>Item Code</th>\n",
       "      <th>Item Name</th>\n",
       "      <th>Qty</th>\n",
       "      <th>Price/Unit</th>\n",
       "      <th>Total</th>\n",
       "    </tr>\n",
       "    <tr>\n",
       "      <th>Shift</th>\n",
       "      <th></th>\n",
       "      <th></th>\n",
       "      <th></th>\n",
       "      <th></th>\n",
       "      <th></th>\n",
       "      <th></th>\n",
       "      <th></th>\n",
       "      <th></th>\n",
       "      <th></th>\n",
       "      <th></th>\n",
       "      <th></th>\n",
       "    </tr>\n",
       "  </thead>\n",
       "  <tbody>\n",
       "    <tr>\n",
       "      <th>Night</th>\n",
       "      <td>195</td>\n",
       "      <td>195</td>\n",
       "      <td>195</td>\n",
       "      <td>195</td>\n",
       "      <td>195</td>\n",
       "      <td>195</td>\n",
       "      <td>195</td>\n",
       "      <td>195</td>\n",
       "      <td>195</td>\n",
       "      <td>195</td>\n",
       "      <td>195</td>\n",
       "    </tr>\n",
       "  </tbody>\n",
       "</table>\n",
       "</div>"
      ],
      "text/plain": [
       "       Date  Time  invoice number  Table  Waiter Number  Waiter name  \\\n",
       "Shift                                                                  \n",
       "Night   195   195             195    195            195          195   \n",
       "\n",
       "       Item Code  Item Name  Qty  Price/Unit  Total  \n",
       "Shift                                                \n",
       "Night        195        195  195         195    195  "
      ]
     },
     "execution_count": 6,
     "metadata": {},
     "output_type": "execute_result"
    }
   ],
   "source": [
    "df.groupby('Shift').count()"
   ]
  },
  {
   "cell_type": "markdown",
   "metadata": {},
   "source": [
    "turn 1\n",
    "User_query: When is the busiest time of day for the restaurant?\n",
    "\n",
    "FileMetadata:\n",
    "\n",
    "file_name: \"Waiters Cash_Sales -.csv\"\n",
    "\n",
    "file_path: \"https://drive.google.com/file/d/1_RBqno4cu9kov98d2S13Ko9mPexp3gtM/view?usp=drive_link\"\n",
    "\n",
    "Capability: Simple dataset exploration"
   ]
  }
 ],
 "metadata": {
  "kernelspec": {
   "display_name": "base",
   "language": "python",
   "name": "python3"
  },
  "language_info": {
   "codemirror_mode": {
    "name": "ipython",
    "version": 3
   },
   "file_extension": ".py",
   "mimetype": "text/x-python",
   "name": "python",
   "nbconvert_exporter": "python",
   "pygments_lexer": "ipython3",
   "version": "3.11.5"
  }
 },
 "nbformat": 4,
 "nbformat_minor": 2
}
