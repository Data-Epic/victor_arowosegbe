{
 "cells": [
  {
   "cell_type": "markdown",
   "metadata": {},
   "source": [
    "## Dataset Overview\n",
    "The dataset contains information about various products, including their names, quantities, unit prices, manufacturers, expiration dates, categories, weights, colors, materials, and production dates.\n",
    "\n",
    "### Task Instructions\n",
    "```Load the Data```:\n",
    "Load the provided CSV file into a Pandas DataFrame.\n",
    "\n",
    "```Basic Data Exploration```:\n",
    "Display the first few rows of the DataFrame.\n",
    "Print the summary statistics of the numeric columns.\n",
    "\n",
    "```Data Cleaning```:\n",
    "There are multiple rows with missing values, handle them with various methods (don't repeat the same method used for column A in column B).\n",
    "\n",
    "```Data Transformation```:\n",
    "Create a new column total_value which is the product of quantity and unit_price.\n",
    "Convert production_date and expiration_date to datetime format.\n",
    "Extract the year from production_date and create a new column production_year.\n",
    "\n",
    "```Data Analysis```:\n",
    "Group the data by category and calculate the total quantity and total value for each category.\n",
    "Find the top 5 most expensive products based on unit_price.\n",
    "Calculate the average weight of products for each manufacturer.\n",
    "\n",
    "```Save the Cleaned Data```:\n",
    "Save the cleaned and transformed DataFrame to a new CSV file named cleaned_factory_data.csv."
   ]
  },
  {
   "cell_type": "code",
   "execution_count": 2,
   "metadata": {},
   "outputs": [],
   "source": [
    "import pandas as pd\n",
    "from datetime import date"
   ]
  },
  {
   "cell_type": "code",
   "execution_count": 3,
   "metadata": {},
   "outputs": [
    {
     "data": {
      "text/html": [
       "<div>\n",
       "<style scoped>\n",
       "    .dataframe tbody tr th:only-of-type {\n",
       "        vertical-align: middle;\n",
       "    }\n",
       "\n",
       "    .dataframe tbody tr th {\n",
       "        vertical-align: top;\n",
       "    }\n",
       "\n",
       "    .dataframe thead th {\n",
       "        text-align: right;\n",
       "    }\n",
       "</style>\n",
       "<table border=\"1\" class=\"dataframe\">\n",
       "  <thead>\n",
       "    <tr style=\"text-align: right;\">\n",
       "      <th></th>\n",
       "      <th>product_name</th>\n",
       "      <th>quantity</th>\n",
       "      <th>unit_price</th>\n",
       "      <th>manufacturer</th>\n",
       "      <th>expiration_date</th>\n",
       "      <th>category</th>\n",
       "      <th>weight</th>\n",
       "      <th>color</th>\n",
       "      <th>material</th>\n",
       "      <th>production_date</th>\n",
       "    </tr>\n",
       "  </thead>\n",
       "  <tbody>\n",
       "    <tr>\n",
       "      <th>0</th>\n",
       "      <td>Soup - Campbells - Chicken Noodle</td>\n",
       "      <td>265</td>\n",
       "      <td>6.20</td>\n",
       "      <td>Katz</td>\n",
       "      <td>NaT</td>\n",
       "      <td>electronics</td>\n",
       "      <td>NaN</td>\n",
       "      <td>Mauv</td>\n",
       "      <td>wood</td>\n",
       "      <td>2023-12-15</td>\n",
       "    </tr>\n",
       "    <tr>\n",
       "      <th>1</th>\n",
       "      <td>Wine - Sauvignon Blanc</td>\n",
       "      <td>429</td>\n",
       "      <td>22.53</td>\n",
       "      <td>Meembee</td>\n",
       "      <td>NaT</td>\n",
       "      <td>food</td>\n",
       "      <td>NaN</td>\n",
       "      <td>Red</td>\n",
       "      <td>plastic</td>\n",
       "      <td>2022-08-31</td>\n",
       "    </tr>\n",
       "    <tr>\n",
       "      <th>2</th>\n",
       "      <td>Pasta - Cheese / Spinach Bauletti</td>\n",
       "      <td>483</td>\n",
       "      <td>79.70</td>\n",
       "      <td>Skynoodle</td>\n",
       "      <td>NaT</td>\n",
       "      <td>food</td>\n",
       "      <td>0.5</td>\n",
       "      <td>Puce</td>\n",
       "      <td>metal</td>\n",
       "      <td>2023-10-27</td>\n",
       "    </tr>\n",
       "    <tr>\n",
       "      <th>3</th>\n",
       "      <td>Wine - Cave Springs Dry Riesling</td>\n",
       "      <td>884</td>\n",
       "      <td>20.51</td>\n",
       "      <td>Centidel</td>\n",
       "      <td>NaT</td>\n",
       "      <td>electronics</td>\n",
       "      <td>3.9</td>\n",
       "      <td>Green</td>\n",
       "      <td>plastic</td>\n",
       "      <td>2023-01-07</td>\n",
       "    </tr>\n",
       "    <tr>\n",
       "      <th>4</th>\n",
       "      <td>Table Cloth 62x120 Colour</td>\n",
       "      <td>476</td>\n",
       "      <td>62.39</td>\n",
       "      <td>Realcube</td>\n",
       "      <td>2022-12-26</td>\n",
       "      <td>electronics</td>\n",
       "      <td>2.6</td>\n",
       "      <td>Pink</td>\n",
       "      <td>metal</td>\n",
       "      <td>2022-03-20</td>\n",
       "    </tr>\n",
       "    <tr>\n",
       "      <th>...</th>\n",
       "      <td>...</td>\n",
       "      <td>...</td>\n",
       "      <td>...</td>\n",
       "      <td>...</td>\n",
       "      <td>...</td>\n",
       "      <td>...</td>\n",
       "      <td>...</td>\n",
       "      <td>...</td>\n",
       "      <td>...</td>\n",
       "      <td>...</td>\n",
       "    </tr>\n",
       "    <tr>\n",
       "      <th>995</th>\n",
       "      <td>Wine - Red, Pinot Noir, Chateau</td>\n",
       "      <td>926</td>\n",
       "      <td>74.30</td>\n",
       "      <td>Lajo</td>\n",
       "      <td>NaT</td>\n",
       "      <td>clothing</td>\n",
       "      <td>0.3</td>\n",
       "      <td>Crimson</td>\n",
       "      <td>metal</td>\n",
       "      <td>2022-08-25</td>\n",
       "    </tr>\n",
       "    <tr>\n",
       "      <th>996</th>\n",
       "      <td>Quail - Whole, Boneless</td>\n",
       "      <td>656</td>\n",
       "      <td>57.55</td>\n",
       "      <td>Oyondu</td>\n",
       "      <td>NaT</td>\n",
       "      <td>electronics</td>\n",
       "      <td>5.6</td>\n",
       "      <td>Turquoise</td>\n",
       "      <td>metal</td>\n",
       "      <td>2022-11-28</td>\n",
       "    </tr>\n",
       "    <tr>\n",
       "      <th>997</th>\n",
       "      <td>Wine - Barolo Fontanafredda</td>\n",
       "      <td>172</td>\n",
       "      <td>26.39</td>\n",
       "      <td>Tekfly</td>\n",
       "      <td>NaT</td>\n",
       "      <td>electronics</td>\n",
       "      <td>5.2</td>\n",
       "      <td>Green</td>\n",
       "      <td>plastic</td>\n",
       "      <td>2023-09-05</td>\n",
       "    </tr>\n",
       "    <tr>\n",
       "      <th>998</th>\n",
       "      <td>Carrots - Mini, Stem On</td>\n",
       "      <td>854</td>\n",
       "      <td>66.21</td>\n",
       "      <td>Aimbo</td>\n",
       "      <td>2023-06-14</td>\n",
       "      <td>clothing</td>\n",
       "      <td>8.6</td>\n",
       "      <td>Goldenrod</td>\n",
       "      <td>plastic</td>\n",
       "      <td>2022-01-04</td>\n",
       "    </tr>\n",
       "    <tr>\n",
       "      <th>999</th>\n",
       "      <td>Tuna - Loin</td>\n",
       "      <td>580</td>\n",
       "      <td>6.87</td>\n",
       "      <td>Photospace</td>\n",
       "      <td>2023-04-04</td>\n",
       "      <td>electronics</td>\n",
       "      <td>2.0</td>\n",
       "      <td>Pink</td>\n",
       "      <td>metal</td>\n",
       "      <td>2023-11-01</td>\n",
       "    </tr>\n",
       "  </tbody>\n",
       "</table>\n",
       "<p>1000 rows × 10 columns</p>\n",
       "</div>"
      ],
      "text/plain": [
       "                          product_name  quantity  unit_price manufacturer  \\\n",
       "0    Soup - Campbells - Chicken Noodle       265        6.20         Katz   \n",
       "1               Wine - Sauvignon Blanc       429       22.53      Meembee   \n",
       "2    Pasta - Cheese / Spinach Bauletti       483       79.70    Skynoodle   \n",
       "3     Wine - Cave Springs Dry Riesling       884       20.51     Centidel   \n",
       "4            Table Cloth 62x120 Colour       476       62.39     Realcube   \n",
       "..                                 ...       ...         ...          ...   \n",
       "995    Wine - Red, Pinot Noir, Chateau       926       74.30         Lajo   \n",
       "996            Quail - Whole, Boneless       656       57.55       Oyondu   \n",
       "997        Wine - Barolo Fontanafredda       172       26.39       Tekfly   \n",
       "998            Carrots - Mini, Stem On       854       66.21        Aimbo   \n",
       "999                        Tuna - Loin       580        6.87   Photospace   \n",
       "\n",
       "    expiration_date     category  weight      color material production_date  \n",
       "0               NaT  electronics     NaN       Mauv     wood      2023-12-15  \n",
       "1               NaT         food     NaN        Red  plastic      2022-08-31  \n",
       "2               NaT         food     0.5       Puce    metal      2023-10-27  \n",
       "3               NaT  electronics     3.9      Green  plastic      2023-01-07  \n",
       "4        2022-12-26  electronics     2.6       Pink    metal      2022-03-20  \n",
       "..              ...          ...     ...        ...      ...             ...  \n",
       "995             NaT     clothing     0.3    Crimson    metal      2022-08-25  \n",
       "996             NaT  electronics     5.6  Turquoise    metal      2022-11-28  \n",
       "997             NaT  electronics     5.2      Green  plastic      2023-09-05  \n",
       "998      2023-06-14     clothing     8.6  Goldenrod  plastic      2022-01-04  \n",
       "999      2023-04-04  electronics     2.0       Pink    metal      2023-11-01  \n",
       "\n",
       "[1000 rows x 10 columns]"
      ]
     },
     "execution_count": 3,
     "metadata": {},
     "output_type": "execute_result"
    }
   ],
   "source": [
    "# Loading the dataset.\n",
    "df = pd.read_csv('Factory Data.csv')\n",
    "df['expiration_date'], df['production_date'] = pd.to_datetime(df['expiration_date']), pd.to_datetime(df['production_date'])\n",
    "df"
   ]
  },
  {
   "cell_type": "markdown",
   "metadata": {},
   "source": [
    "### Data Exploration"
   ]
  },
  {
   "cell_type": "code",
   "execution_count": 4,
   "metadata": {},
   "outputs": [
    {
     "name": "stdout",
     "output_type": "stream",
     "text": [
      "\t\t\tDisplay of first 6 rows\n",
      "\n",
      "                         product_name  quantity  unit_price manufacturer  \\\n",
      "0  Soup - Campbells - Chicken Noodle       265        6.20         Katz   \n",
      "1             Wine - Sauvignon Blanc       429       22.53      Meembee   \n",
      "2  Pasta - Cheese / Spinach Bauletti       483       79.70    Skynoodle   \n",
      "3   Wine - Cave Springs Dry Riesling       884       20.51     Centidel   \n",
      "4          Table Cloth 62x120 Colour       476       62.39     Realcube   \n",
      "5                        Rolled Oats       852       86.68       Skibox   \n",
      "\n",
      "  expiration_date     category  weight  color material production_date  \n",
      "0             NaT  electronics     NaN   Mauv     wood      2023-12-15  \n",
      "1             NaT         food     NaN    Red  plastic      2022-08-31  \n",
      "2             NaT         food     0.5   Puce    metal      2023-10-27  \n",
      "3             NaT  electronics     3.9  Green  plastic      2023-01-07  \n",
      "4      2022-12-26  electronics     2.6   Pink    metal      2022-03-20  \n",
      "5      2023-04-30         food     NaN  Green    metal      2023-02-04   \n",
      "\n",
      "\n",
      " Summary Statistics of Numerical Columns\n",
      "\n",
      "                product_name     quantity   unit_price manufacturer  \\\n",
      "count                  1000  1000.000000  1000.000000         1000   \n",
      "unique                  820          NaN          NaN          352   \n",
      "top     Oil - Cooking Spray          NaN          NaN        Mynte   \n",
      "freq                      4          NaN          NaN            8   \n",
      "mean                    NaN   516.651000    50.182260          NaN   \n",
      "min                     NaN     2.000000     0.120000          NaN   \n",
      "25%                     NaN   272.000000    24.607500          NaN   \n",
      "50%                     NaN   521.500000    51.815000          NaN   \n",
      "75%                     NaN   769.000000    76.320000          NaN   \n",
      "max                     NaN   999.000000    99.910000          NaN   \n",
      "std                     NaN   292.392316    29.327183          NaN   \n",
      "\n",
      "                      expiration_date category      weight   color material  \\\n",
      "count                             203     1000  781.000000    1000     1000   \n",
      "unique                            NaN        3         NaN      19        3   \n",
      "top                               NaN     food         NaN  Purple    metal   \n",
      "freq                              NaN      349         NaN      66      355   \n",
      "mean    2022-12-31 17:22:45.517241344      NaN    5.020102     NaN      NaN   \n",
      "min               2022-01-03 00:00:00      NaN    0.100000     NaN      NaN   \n",
      "25%               2022-07-26 12:00:00      NaN    2.600000     NaN      NaN   \n",
      "50%               2022-12-08 00:00:00      NaN    5.000000     NaN      NaN   \n",
      "75%               2023-06-17 00:00:00      NaN    7.400000     NaN      NaN   \n",
      "max               2023-12-30 00:00:00      NaN   10.000000     NaN      NaN   \n",
      "std                               NaN      NaN    2.826848     NaN      NaN   \n",
      "\n",
      "                      production_date  \n",
      "count                            1000  \n",
      "unique                            NaN  \n",
      "top                               NaN  \n",
      "freq                              NaN  \n",
      "mean    2022-12-28 10:01:55.200000256  \n",
      "min               2022-01-01 00:00:00  \n",
      "25%               2022-07-01 18:00:00  \n",
      "50%               2022-12-25 12:00:00  \n",
      "75%               2023-06-23 00:00:00  \n",
      "max               2023-12-30 00:00:00  \n",
      "std                               NaN  \n"
     ]
    }
   ],
   "source": [
    "# Basic Data Exploration\n",
    "print('\\t\\t\\tDisplay of first 6 rows\\n\\n', df.head(6), '\\n\\n\\n',\\\n",
    "    'Summary Statistics of Numerical Columns\\n\\n', df.describe(include='all'))"
   ]
  },
  {
   "cell_type": "markdown",
   "metadata": {},
   "source": [
    "### Data Cleaning"
   ]
  },
  {
   "cell_type": "code",
   "execution_count": null,
   "metadata": {},
   "outputs": [],
   "source": [
    "# Data Cleaning \n",
    "\n",
    "#Identifying columns with missing values\n",
    "print(df.isna().sum())\n",
    "\n",
    "#Defining values to fill missing values in weight column with.\n",
    "wgtmean = 5.02\n",
    "wgtmedian = 5.0\n",
    "wgtmode = 4.0\n",
    "\n",
    "a = df['weight'].fillna(wgtmean)\n",
    "b = df['weight'].fillna(wgtmedian)\n",
    "c = df['weight'].fillna(wgtmode)\n",
    "\n",
    "# Inspecting the variation in the different values compared to the original column with missing values.\n",
    "print(f\"\\n\\nDF Mean Weight Description \\n{a.describe()}, \\n\\nDF Median Weight Description \\n{b.describe()},\\\n",
    "     \\n\\nDF Mode Weight Description \\n {c.describe()}, \\n\\nDF Weight with NAs Description \\n{df['weight'].describe()}\")\n",
    "\n",
    "#Filling missing values in weight column with the median \n",
    "#  Mean was chosen because it's Mean are 50% are closest to one another\n",
    "#  and it's STD is close to the original data set column\n",
    "df['weight'] = df['weight'].fillna(wgtmean)\n",
    "\n",
    "\n",
    "# Filling Missing date in Expiration_date column\n",
    "\n",
    "#Determine Date Range\n",
    "\n",
    "# least_date = df['expiration_date'].min()\n",
    "# max_date = df['expiration_date'].max()\n",
    "# print(f\"Least Date : {least_date} \\n\\nMax Date : {max_date}\\\n",
    "#         \\n\\nDifference : {max_date - least_date}\"\n",
    "#     )\n",
    "\n",
    "# print(df['expiration_date'].isna().sum())\n",
    "\n",
    "# date_range = pd.date_range(start= \"2022-01-03\", end = \"2023-12-30\", freq=\"D\")\n",
    "# missing_dates = date_range[~date_range.isin(df['expiration_date'])]\n",
    "# print(missing_dates)\n",
    "\n",
    "df['expiration_date'] = df['expiration_date'].fillna(method='bfill')\n",
    "\n",
    "df.info()"
   ]
  },
  {
   "cell_type": "markdown",
   "metadata": {},
   "source": [
    "### Data Transformation"
   ]
  },
  {
   "cell_type": "code",
   "execution_count": 6,
   "metadata": {},
   "outputs": [
    {
     "data": {
      "text/html": [
       "<div>\n",
       "<style scoped>\n",
       "    .dataframe tbody tr th:only-of-type {\n",
       "        vertical-align: middle;\n",
       "    }\n",
       "\n",
       "    .dataframe tbody tr th {\n",
       "        vertical-align: top;\n",
       "    }\n",
       "\n",
       "    .dataframe thead th {\n",
       "        text-align: right;\n",
       "    }\n",
       "</style>\n",
       "<table border=\"1\" class=\"dataframe\">\n",
       "  <thead>\n",
       "    <tr style=\"text-align: right;\">\n",
       "      <th></th>\n",
       "      <th>product_name</th>\n",
       "      <th>quantity</th>\n",
       "      <th>unit_price</th>\n",
       "      <th>manufacturer</th>\n",
       "      <th>expiration_date</th>\n",
       "      <th>category</th>\n",
       "      <th>weight</th>\n",
       "      <th>color</th>\n",
       "      <th>material</th>\n",
       "      <th>production_date</th>\n",
       "      <th>total_value</th>\n",
       "      <th>production_year</th>\n",
       "    </tr>\n",
       "  </thead>\n",
       "  <tbody>\n",
       "    <tr>\n",
       "      <th>0</th>\n",
       "      <td>Soup - Campbells - Chicken Noodle</td>\n",
       "      <td>265</td>\n",
       "      <td>6.20</td>\n",
       "      <td>Katz</td>\n",
       "      <td>2022-12-26</td>\n",
       "      <td>electronics</td>\n",
       "      <td>5.02</td>\n",
       "      <td>Mauv</td>\n",
       "      <td>wood</td>\n",
       "      <td>2023-12-15</td>\n",
       "      <td>1643.00</td>\n",
       "      <td>2023</td>\n",
       "    </tr>\n",
       "    <tr>\n",
       "      <th>1</th>\n",
       "      <td>Wine - Sauvignon Blanc</td>\n",
       "      <td>429</td>\n",
       "      <td>22.53</td>\n",
       "      <td>Meembee</td>\n",
       "      <td>2022-12-26</td>\n",
       "      <td>food</td>\n",
       "      <td>5.02</td>\n",
       "      <td>Red</td>\n",
       "      <td>plastic</td>\n",
       "      <td>2022-08-31</td>\n",
       "      <td>9665.37</td>\n",
       "      <td>2022</td>\n",
       "    </tr>\n",
       "    <tr>\n",
       "      <th>2</th>\n",
       "      <td>Pasta - Cheese / Spinach Bauletti</td>\n",
       "      <td>483</td>\n",
       "      <td>79.70</td>\n",
       "      <td>Skynoodle</td>\n",
       "      <td>2022-12-26</td>\n",
       "      <td>food</td>\n",
       "      <td>0.50</td>\n",
       "      <td>Puce</td>\n",
       "      <td>metal</td>\n",
       "      <td>2023-10-27</td>\n",
       "      <td>38495.10</td>\n",
       "      <td>2023</td>\n",
       "    </tr>\n",
       "    <tr>\n",
       "      <th>3</th>\n",
       "      <td>Wine - Cave Springs Dry Riesling</td>\n",
       "      <td>884</td>\n",
       "      <td>20.51</td>\n",
       "      <td>Centidel</td>\n",
       "      <td>2022-12-26</td>\n",
       "      <td>electronics</td>\n",
       "      <td>3.90</td>\n",
       "      <td>Green</td>\n",
       "      <td>plastic</td>\n",
       "      <td>2023-01-07</td>\n",
       "      <td>18130.84</td>\n",
       "      <td>2023</td>\n",
       "    </tr>\n",
       "  </tbody>\n",
       "</table>\n",
       "</div>"
      ],
      "text/plain": [
       "                        product_name  quantity  unit_price manufacturer  \\\n",
       "0  Soup - Campbells - Chicken Noodle       265        6.20         Katz   \n",
       "1             Wine - Sauvignon Blanc       429       22.53      Meembee   \n",
       "2  Pasta - Cheese / Spinach Bauletti       483       79.70    Skynoodle   \n",
       "3   Wine - Cave Springs Dry Riesling       884       20.51     Centidel   \n",
       "\n",
       "  expiration_date     category  weight  color material production_date  \\\n",
       "0      2022-12-26  electronics    5.02   Mauv     wood      2023-12-15   \n",
       "1      2022-12-26         food    5.02    Red  plastic      2022-08-31   \n",
       "2      2022-12-26         food    0.50   Puce    metal      2023-10-27   \n",
       "3      2022-12-26  electronics    3.90  Green  plastic      2023-01-07   \n",
       "\n",
       "   total_value production_year  \n",
       "0      1643.00            2023  \n",
       "1      9665.37            2022  \n",
       "2     38495.10            2023  \n",
       "3     18130.84            2023  "
      ]
     },
     "execution_count": 6,
     "metadata": {},
     "output_type": "execute_result"
    }
   ],
   "source": [
    "# Creating new column total_value\n",
    "df['total_value'] = df['quantity'] * df['unit_price']\n",
    "\n",
    "# Extract year from production year\n",
    "df['production_year'] = df['production_date'].dt.strftime('%Y')\n",
    "\n",
    "df.head(4)"
   ]
  },
  {
   "cell_type": "code",
   "execution_count": 7,
   "metadata": {},
   "outputs": [
    {
     "data": {
      "text/plain": [
       "Index(['product_name', 'quantity', 'unit_price', 'manufacturer',\n",
       "       'expiration_date', 'category', 'weight', 'color', 'material',\n",
       "       'production_date', 'total_value', 'production_year'],\n",
       "      dtype='object')"
      ]
     },
     "execution_count": 7,
     "metadata": {},
     "output_type": "execute_result"
    }
   ],
   "source": [
    "df.columns"
   ]
  },
  {
   "cell_type": "markdown",
   "metadata": {},
   "source": [
    "Group the data by category and calculate the total quantity and total value for each category.\n",
    "Find the top 5 most expensive products based on unit_price.\n",
    "Calculate the average weight of products for each manufacturer."
   ]
  },
  {
   "cell_type": "markdown",
   "metadata": {},
   "source": [
    "### Data Analysis"
   ]
  },
  {
   "cell_type": "code",
   "execution_count": 28,
   "metadata": {},
   "outputs": [
    {
     "data": {
      "text/plain": [
       "category\n",
       "food           176572\n",
       "electronics    175384\n",
       "clothing       164695\n",
       "Name: quantity, dtype: int64"
      ]
     },
     "execution_count": 28,
     "metadata": {},
     "output_type": "execute_result"
    }
   ],
   "source": [
    "#Total Quantity per category\n",
    "\n",
    "df.groupby('category')['quantity'].sum().sort_values(ascending=False)\n",
    "\n",
    "#Food items has the highest quantity of 176572"
   ]
  },
  {
   "cell_type": "code",
   "execution_count": 29,
   "metadata": {},
   "outputs": [
    {
     "data": {
      "text/plain": [
       "category\n",
       "electronics    9087471.54\n",
       "food           8677674.10\n",
       "clothing       8400008.08\n",
       "Name: total_value, dtype: float64"
      ]
     },
     "execution_count": 29,
     "metadata": {},
     "output_type": "execute_result"
    }
   ],
   "source": [
    "#Total Quantity per total value\n",
    "\n",
    "df.groupby('category')['total_value'].sum().sort_values(ascending=False)\n",
    "\n",
    "#Food items has the highest quantity of 9087471.54"
   ]
  },
  {
   "cell_type": "code",
   "execution_count": 38,
   "metadata": {},
   "outputs": [
    {
     "data": {
      "text/plain": [
       "product_name\n",
       "Pineapple - Canned, Rings    99.91\n",
       "Pork - Side Ribs             99.84\n",
       "Bag - Regular Kraft 20 Lb    99.68\n",
       "Cafe Royale                  99.64\n",
       "Bread - Pain Au Liat X12     99.62\n",
       "Name: unit_price, dtype: float64"
      ]
     },
     "execution_count": 38,
     "metadata": {},
     "output_type": "execute_result"
    }
   ],
   "source": [
    "#Top 5 most expensive products based on unit price\n",
    "\n",
    "df.groupby('product_name')['unit_price'].max().sort_values(ascending=False).head(5)\n",
    "\n"
   ]
  },
  {
   "cell_type": "code",
   "execution_count": 36,
   "metadata": {},
   "outputs": [
    {
     "data": {
      "text/plain": [
       "manufacturer\n",
       "Viva            10.000000\n",
       "Fivebridge       9.800000\n",
       "BlogXS           9.600000\n",
       "Devify           9.500000\n",
       "Bubblemix        9.266667\n",
       "                  ...    \n",
       "Voonder          1.000000\n",
       "Eimbee           0.800000\n",
       "Kaymbo           0.700000\n",
       "Chatterpoint     0.500000\n",
       "Zoombox          0.500000\n",
       "Name: weight, Length: 352, dtype: float64"
      ]
     },
     "execution_count": 36,
     "metadata": {},
     "output_type": "execute_result"
    }
   ],
   "source": [
    "#Average weight of product by manufacturer name.\n",
    "\n",
    "df.groupby('manufacturer')['weight'].mean().sort_values(ascending=False)\n",
    "\n"
   ]
  },
  {
   "cell_type": "markdown",
   "metadata": {},
   "source": [
    "### Saving The Cleaned Data"
   ]
  },
  {
   "cell_type": "code",
   "execution_count": 13,
   "metadata": {},
   "outputs": [],
   "source": [
    "df.to_csv('Cleaned Factory Data.csv', index=False)"
   ]
  },
  {
   "cell_type": "code",
   "execution_count": null,
   "metadata": {},
   "outputs": [],
   "source": []
  },
  {
   "cell_type": "code",
   "execution_count": null,
   "metadata": {},
   "outputs": [],
   "source": []
  }
 ],
 "metadata": {
  "kernelspec": {
   "display_name": "base",
   "language": "python",
   "name": "python3"
  },
  "language_info": {
   "codemirror_mode": {
    "name": "ipython",
    "version": 3
   },
   "file_extension": ".py",
   "mimetype": "text/x-python",
   "name": "python",
   "nbconvert_exporter": "python",
   "pygments_lexer": "ipython3",
   "version": "3.11.5"
  }
 },
 "nbformat": 4,
 "nbformat_minor": 2
}
