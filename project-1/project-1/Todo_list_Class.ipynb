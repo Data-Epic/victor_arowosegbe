{
  "nbformat": 4,
  "nbformat_minor": 0,
  "metadata": {
    "colab": {
      "provenance": []
    },
    "kernelspec": {
      "name": "python3",
      "display_name": "Python 3"
    },
    "language_info": {
      "name": "python"
    }
  },
  "cells": [
    {
      "cell_type": "markdown",
      "source": [
        "# Create a Class:\n",
        "Define a class named TodoList.\n",
        "\n",
        "\n",
        "###Methods to Implement:\n",
        "```Add Task:``` A method to add a new task to the todo list.\n",
        "\n",
        "```Delete Task:``` A method to delete a task from the todo list.\n",
        "\n",
        "```Show All Tasks:``` A method to display all tasks in the todo list.\n",
        "Mark Task as Completed: A method to mark a task as completed.\n",
        "\n",
        "```Version Control:```\n",
        "Make sure to make commits of your task to the Data Epic organization Git repository. Check for a reminder on how to do that in ⁠task-submission\n",
        "Follow proper commit messages and structure for your commits.\n",
        "\n",
        "```Deadline:```\n",
        "The task is due by Friday at 12pm."
      ],
      "metadata": {
        "id": "h1s6Jg9_0Q2N"
      }
    },
    {
      "cell_type": "code",
      "execution_count": null,
      "metadata": {
        "id": "rUGl7aSExQ9f"
      },
      "outputs": [],
      "source": [
        "class TodoList:\n",
        "  \"\"\"\n",
        "  This is a class that creates a Todo List\n",
        "  Tasks can be added, deleted, displayed and marked as completed\n",
        "\n",
        "  \"\"\"\n",
        "\n",
        "  def __init__(self):\n",
        "    \"\"\"\n",
        "    This initiates the empty to do list.\n",
        "\n",
        "    \"\"\"\n",
        "    self.todo_list = []\n",
        "\n",
        "\n",
        "  def add_task(self, add):\n",
        "    \"\"\"\n",
        "    This method adds a task to the todo list\n",
        "    Args:\n",
        "      add: designates the task to be added to the list.\n",
        "    \"\"\"\n",
        "    add = str(add)\n",
        "    self.todo_list.append(add)\n",
        "\n",
        "  def delete_task(self, delete):\n",
        "    \"\"\"\n",
        "    This methods deletes a listed task from the list.\n",
        "    Args:\n",
        "      delete: designates the task to be deleted.\n",
        "    \"\"\"\n",
        "    self.todo_list.pop(delete)\n",
        "\n",
        "  def show_all_task(self):\n",
        "    \"\"\"\n",
        "\n",
        "    Returns: This method shows the available tasks in the list.\n",
        "\n",
        "    \"\"\"\n",
        "    return self.todo_list\n",
        "\n",
        "  def mark_as_completed(self, mark):\n",
        "    \"\"\"\n",
        "    This method marks a task as completed.\n",
        "    Args:\n",
        "      mark: designates the task to be marked as complete.\n",
        "    \"\"\"\n",
        "    print(f\"Task '{self.todo_list[mark]}' is completed\")\n",
        "    self.delete_task(mark)\n",
        "    return self.todo_list\n",
        "\n",
        "\n"
      ]
    },
    {
      "cell_type": "code",
      "source": [
        "# Create a new todo list\n",
        "my_todo_list = TodoList()\n",
        "\n",
        "# Add tasks\n",
        "my_todo_list.add_task(\"Finish Python assignment\")\n",
        "my_todo_list.add_task(\"Read OOP chapter\")\n",
        "my_todo_list.add_task(\"Completed preprocessing for python capstone\")\n",
        "\n",
        "\n",
        "# Show all tasks\n",
        "print(my_todo_list.show_all_task())\n",
        "\n",
        "# Mark the first task as completed\n",
        "my_todo_list.mark_as_completed(0)\n",
        "\n",
        "# Show all tasks again to see the updates\n",
        "print(my_todo_list.show_all_task())\n",
        "\n",
        "# Delete the second task\n",
        "my_todo_list.delete_task(1)\n",
        "\n",
        "# Show all tasks again to see the updates\n",
        "my_todo_list.show_all_task()"
      ],
      "metadata": {
        "colab": {
          "base_uri": "https://localhost:8080/"
        },
        "id": "MmFLtnYHCK8T",
        "outputId": "484f5ed0-14a6-4aae-a28a-6e34e5220753"
      },
      "execution_count": null,
      "outputs": [
        {
          "output_type": "stream",
          "name": "stdout",
          "text": [
            "['Finish Python assignment', 'Read OOP chapter', 'Completed preprocessing for python capstone']\n",
            "Task 'Finish Python assignment' is completed\n",
            "['Read OOP chapter', 'Completed preprocessing for python capstone']\n"
          ]
        },
        {
          "output_type": "execute_result",
          "data": {
            "text/plain": [
              "['Read OOP chapter']"
            ]
          },
          "metadata": {},
          "execution_count": 6
        }
      ]
    },
    {
      "cell_type": "code",
      "source": [
        "a = TodoList()\n",
        "a.todo_list\n",
        "\n",
        "a.add_task('Finish Python Assignment')\n",
        "a.todo_list\n",
        "\n",
        "a.add_task('Read OOP Chapter')\n",
        "a.todo_list\n",
        "\n",
        "a.mark_as_completed(1)"
      ],
      "metadata": {
        "colab": {
          "base_uri": "https://localhost:8080/"
        },
        "id": "LrQ3nJA80Pdw",
        "outputId": "d974c47a-cfaa-4680-a6d8-81d2d722c4fe"
      },
      "execution_count": null,
      "outputs": [
        {
          "output_type": "stream",
          "name": "stdout",
          "text": [
            "Task 'Read OOP Chapter' is completed\n"
          ]
        }
      ]
    },
    {
      "cell_type": "code",
      "source": [
        "a.delete_task(1)\n",
        "a.todo_list\n"
      ],
      "metadata": {
        "colab": {
          "base_uri": "https://localhost:8080/"
        },
        "id": "KMUx3JX1xVNs",
        "outputId": "1c9defed-95c4-452a-a957-2b91c94edeb4"
      },
      "execution_count": null,
      "outputs": [
        {
          "output_type": "execute_result",
          "data": {
            "text/plain": [
              "['Finish Python Assignment']"
            ]
          },
          "metadata": {},
          "execution_count": 18
        }
      ]
    },
    {
      "cell_type": "code",
      "source": [
        "a.show_all_task()"
      ],
      "metadata": {
        "colab": {
          "base_uri": "https://localhost:8080/"
        },
        "id": "KnqiPq-ExVQi",
        "outputId": "047e1cfa-6015-4bbe-ad28-21eacf6ae7d5"
      },
      "execution_count": null,
      "outputs": [
        {
          "output_type": "execute_result",
          "data": {
            "text/plain": [
              "['Finish Python Assignment', 'Read OOP Chapter']"
            ]
          },
          "metadata": {},
          "execution_count": 22
        }
      ]
    },
    {
      "cell_type": "code",
      "source": [],
      "metadata": {
        "id": "ktoD5qoVxVTX"
      },
      "execution_count": null,
      "outputs": []
    },
    {
      "cell_type": "code",
      "source": [],
      "metadata": {
        "id": "HMtIU3KvxVWL"
      },
      "execution_count": null,
      "outputs": []
    },
    {
      "cell_type": "code",
      "source": [],
      "metadata": {
        "id": "lGeZFkWKxVYs"
      },
      "execution_count": null,
      "outputs": []
    },
    {
      "cell_type": "code",
      "source": [],
      "metadata": {
        "id": "O8i3jA6qxVbV"
      },
      "execution_count": null,
      "outputs": []
    },
    {
      "cell_type": "code",
      "source": [],
      "metadata": {
        "id": "jiw2dnP2xVep"
      },
      "execution_count": null,
      "outputs": []
    }
  ]
}